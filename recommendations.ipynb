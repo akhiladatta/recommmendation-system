{
  "nbformat": 4,
  "nbformat_minor": 0,
  "metadata": {
    "colab": {
      "name": "recommendations.ipynb",
      "provenance": [],
      "collapsed_sections": []
    },
    "kernelspec": {
      "name": "python3",
      "display_name": "Python 3"
    },
    "language_info": {
      "name": "python"
    }
  },
  "cells": [
    {
      "cell_type": "code",
      "metadata": {
        "colab": {
          "base_uri": "https://localhost:8080/"
        },
        "id": "CTXwsTDOpQUC",
        "outputId": "186dc323-2c35-4400-df7d-924633924b8d"
      },
      "source": [
        "from google.colab import drive\n",
        "drive.mount('/content/drive')"
      ],
      "execution_count": null,
      "outputs": [
        {
          "output_type": "stream",
          "text": [
            "Drive already mounted at /content/drive; to attempt to forcibly remount, call drive.mount(\"/content/drive\", force_remount=True).\n"
          ],
          "name": "stdout"
        }
      ]
    },
    {
      "cell_type": "code",
      "metadata": {
        "id": "gD6pR_PxsIn5"
      },
      "source": [
        "import os\n",
        "from numpy import *\n",
        "import matplotlib.pyplot as plt\n",
        "import pandas as pd\n",
        "\n",
        "data = pd.read_csv('/content/drive/MyDrive/mlproject2/Training Data.csv')\n",
        "target_data = pd.read_csv('/content/drive/MyDrive/mlproject2/Training Data Target.csv')"
      ],
      "execution_count": null,
      "outputs": []
    },
    {
      "cell_type": "code",
      "metadata": {
        "id": "V01y2MUXtdIR",
        "colab": {
          "base_uri": "https://localhost:8080/",
          "height": 419
        },
        "outputId": "2eae37fc-bbcf-438b-e49a-8ce447ebb0d5"
      },
      "source": [
        "data"
      ],
      "execution_count": null,
      "outputs": [
        {
          "output_type": "execute_result",
          "data": {
            "text/html": [
              "<div>\n",
              "<style scoped>\n",
              "    .dataframe tbody tr th:only-of-type {\n",
              "        vertical-align: middle;\n",
              "    }\n",
              "\n",
              "    .dataframe tbody tr th {\n",
              "        vertical-align: top;\n",
              "    }\n",
              "\n",
              "    .dataframe thead th {\n",
              "        text-align: right;\n",
              "    }\n",
              "</style>\n",
              "<table border=\"1\" class=\"dataframe\">\n",
              "  <thead>\n",
              "    <tr style=\"text-align: right;\">\n",
              "      <th></th>\n",
              "      <th>user_id</th>\n",
              "      <th>aov</th>\n",
              "      <th>category</th>\n",
              "    </tr>\n",
              "  </thead>\n",
              "  <tbody>\n",
              "    <tr>\n",
              "      <th>0</th>\n",
              "      <td>37327</td>\n",
              "      <td>29128.0</td>\n",
              "      <td>Phones</td>\n",
              "    </tr>\n",
              "    <tr>\n",
              "      <th>1</th>\n",
              "      <td>37327</td>\n",
              "      <td>354.0</td>\n",
              "      <td>Fashion</td>\n",
              "    </tr>\n",
              "    <tr>\n",
              "      <th>2</th>\n",
              "      <td>37327</td>\n",
              "      <td>460.0</td>\n",
              "      <td>Home Decor</td>\n",
              "    </tr>\n",
              "    <tr>\n",
              "      <th>3</th>\n",
              "      <td>37327</td>\n",
              "      <td>761.0</td>\n",
              "      <td>Fashion</td>\n",
              "    </tr>\n",
              "    <tr>\n",
              "      <th>4</th>\n",
              "      <td>41260</td>\n",
              "      <td>16658.0</td>\n",
              "      <td>Phones</td>\n",
              "    </tr>\n",
              "    <tr>\n",
              "      <th>...</th>\n",
              "      <td>...</td>\n",
              "      <td>...</td>\n",
              "      <td>...</td>\n",
              "    </tr>\n",
              "    <tr>\n",
              "      <th>257402</th>\n",
              "      <td>29237</td>\n",
              "      <td>689.0</td>\n",
              "      <td>Fashion</td>\n",
              "    </tr>\n",
              "    <tr>\n",
              "      <th>257403</th>\n",
              "      <td>15197</td>\n",
              "      <td>2195.0</td>\n",
              "      <td>Groceries</td>\n",
              "    </tr>\n",
              "    <tr>\n",
              "      <th>257404</th>\n",
              "      <td>2114</td>\n",
              "      <td>559.0</td>\n",
              "      <td>Back to School</td>\n",
              "    </tr>\n",
              "    <tr>\n",
              "      <th>257405</th>\n",
              "      <td>35741</td>\n",
              "      <td>18451.0</td>\n",
              "      <td>Phones</td>\n",
              "    </tr>\n",
              "    <tr>\n",
              "      <th>257406</th>\n",
              "      <td>36769</td>\n",
              "      <td>12529.0</td>\n",
              "      <td>Phones</td>\n",
              "    </tr>\n",
              "  </tbody>\n",
              "</table>\n",
              "<p>257407 rows × 3 columns</p>\n",
              "</div>"
            ],
            "text/plain": [
              "        user_id      aov        category\n",
              "0         37327  29128.0          Phones\n",
              "1         37327    354.0         Fashion\n",
              "2         37327    460.0      Home Decor\n",
              "3         37327    761.0         Fashion\n",
              "4         41260  16658.0          Phones\n",
              "...         ...      ...             ...\n",
              "257402    29237    689.0         Fashion\n",
              "257403    15197   2195.0       Groceries\n",
              "257404     2114    559.0  Back to School\n",
              "257405    35741  18451.0          Phones\n",
              "257406    36769  12529.0          Phones\n",
              "\n",
              "[257407 rows x 3 columns]"
            ]
          },
          "metadata": {
            "tags": []
          },
          "execution_count": 127
        }
      ]
    },
    {
      "cell_type": "code",
      "metadata": {
        "id": "orzryyv_BQV4"
      },
      "source": [
        "del data[\"aov\"]"
      ],
      "execution_count": null,
      "outputs": []
    },
    {
      "cell_type": "code",
      "metadata": {
        "id": "ColzetDFAdRD",
        "colab": {
          "base_uri": "https://localhost:8080/"
        },
        "outputId": "bbda5cee-1ea3-4d0f-c159-29d082bc5ae9"
      },
      "source": [
        "data[\"user_id\"].value_counts().describe()"
      ],
      "execution_count": null,
      "outputs": [
        {
          "output_type": "execute_result",
          "data": {
            "text/plain": [
              "count    29972.000000\n",
              "mean         8.588249\n",
              "std          3.376469\n",
              "min          1.000000\n",
              "25%          6.000000\n",
              "50%          9.000000\n",
              "75%         11.000000\n",
              "max         26.000000\n",
              "Name: user_id, dtype: float64"
            ]
          },
          "metadata": {
            "tags": []
          },
          "execution_count": 129
        }
      ]
    },
    {
      "cell_type": "code",
      "metadata": {
        "id": "BlaI713JtA_e",
        "colab": {
          "base_uri": "https://localhost:8080/",
          "height": 419
        },
        "outputId": "d398cb0b-8504-41f3-ff98-5b8345d95a86"
      },
      "source": [
        "category = ['Phones', 'Fashion', 'Home Decor', 'Toys','Groceries','Back to School','Gaming','Consumer Durables','Books','Kitchen cleaning Supplies','Beauty Products','Ereaders','Board Games','Painiting Supplies','Pet Supplies','Fitness','Laptops','TVs']\n",
        "category_id = list(range(1,19))\n",
        "# get the list of tuples from two lists.\n",
        "# and merge them by using zip().\n",
        "list_of_tuples = list(zip(category, category_id))\n",
        "df = pd.DataFrame(list_of_tuples,columns = ['category', 'category_id'])\n",
        "merged_df = pd.merge(data,df,on='category')\n",
        "del merged_df[\"category\"]\n",
        "merged_df"
      ],
      "execution_count": null,
      "outputs": [
        {
          "output_type": "execute_result",
          "data": {
            "text/html": [
              "<div>\n",
              "<style scoped>\n",
              "    .dataframe tbody tr th:only-of-type {\n",
              "        vertical-align: middle;\n",
              "    }\n",
              "\n",
              "    .dataframe tbody tr th {\n",
              "        vertical-align: top;\n",
              "    }\n",
              "\n",
              "    .dataframe thead th {\n",
              "        text-align: right;\n",
              "    }\n",
              "</style>\n",
              "<table border=\"1\" class=\"dataframe\">\n",
              "  <thead>\n",
              "    <tr style=\"text-align: right;\">\n",
              "      <th></th>\n",
              "      <th>user_id</th>\n",
              "      <th>category_id</th>\n",
              "    </tr>\n",
              "  </thead>\n",
              "  <tbody>\n",
              "    <tr>\n",
              "      <th>0</th>\n",
              "      <td>37327</td>\n",
              "      <td>1</td>\n",
              "    </tr>\n",
              "    <tr>\n",
              "      <th>1</th>\n",
              "      <td>41260</td>\n",
              "      <td>1</td>\n",
              "    </tr>\n",
              "    <tr>\n",
              "      <th>2</th>\n",
              "      <td>19360</td>\n",
              "      <td>1</td>\n",
              "    </tr>\n",
              "    <tr>\n",
              "      <th>3</th>\n",
              "      <td>19360</td>\n",
              "      <td>1</td>\n",
              "    </tr>\n",
              "    <tr>\n",
              "      <th>4</th>\n",
              "      <td>19360</td>\n",
              "      <td>1</td>\n",
              "    </tr>\n",
              "    <tr>\n",
              "      <th>...</th>\n",
              "      <td>...</td>\n",
              "      <td>...</td>\n",
              "    </tr>\n",
              "    <tr>\n",
              "      <th>257402</th>\n",
              "      <td>46282</td>\n",
              "      <td>10</td>\n",
              "    </tr>\n",
              "    <tr>\n",
              "      <th>257403</th>\n",
              "      <td>47716</td>\n",
              "      <td>10</td>\n",
              "    </tr>\n",
              "    <tr>\n",
              "      <th>257404</th>\n",
              "      <td>11175</td>\n",
              "      <td>10</td>\n",
              "    </tr>\n",
              "    <tr>\n",
              "      <th>257405</th>\n",
              "      <td>20009</td>\n",
              "      <td>10</td>\n",
              "    </tr>\n",
              "    <tr>\n",
              "      <th>257406</th>\n",
              "      <td>49048</td>\n",
              "      <td>10</td>\n",
              "    </tr>\n",
              "  </tbody>\n",
              "</table>\n",
              "<p>257407 rows × 2 columns</p>\n",
              "</div>"
            ],
            "text/plain": [
              "        user_id  category_id\n",
              "0         37327            1\n",
              "1         41260            1\n",
              "2         19360            1\n",
              "3         19360            1\n",
              "4         19360            1\n",
              "...         ...          ...\n",
              "257402    46282           10\n",
              "257403    47716           10\n",
              "257404    11175           10\n",
              "257405    20009           10\n",
              "257406    49048           10\n",
              "\n",
              "[257407 rows x 2 columns]"
            ]
          },
          "metadata": {
            "tags": []
          },
          "execution_count": 130
        }
      ]
    },
    {
      "cell_type": "code",
      "metadata": {
        "id": "H_R2eqrXK4Jz",
        "colab": {
          "base_uri": "https://localhost:8080/",
          "height": 419
        },
        "outputId": "e3eeadc6-624a-4881-9245-d12059e7a19a"
      },
      "source": [
        "merged_df.insert(2, \"freq\", list(ones(data.shape[0])), True)\n",
        "merged_df"
      ],
      "execution_count": null,
      "outputs": [
        {
          "output_type": "execute_result",
          "data": {
            "text/html": [
              "<div>\n",
              "<style scoped>\n",
              "    .dataframe tbody tr th:only-of-type {\n",
              "        vertical-align: middle;\n",
              "    }\n",
              "\n",
              "    .dataframe tbody tr th {\n",
              "        vertical-align: top;\n",
              "    }\n",
              "\n",
              "    .dataframe thead th {\n",
              "        text-align: right;\n",
              "    }\n",
              "</style>\n",
              "<table border=\"1\" class=\"dataframe\">\n",
              "  <thead>\n",
              "    <tr style=\"text-align: right;\">\n",
              "      <th></th>\n",
              "      <th>user_id</th>\n",
              "      <th>category_id</th>\n",
              "      <th>freq</th>\n",
              "    </tr>\n",
              "  </thead>\n",
              "  <tbody>\n",
              "    <tr>\n",
              "      <th>0</th>\n",
              "      <td>37327</td>\n",
              "      <td>1</td>\n",
              "      <td>1.0</td>\n",
              "    </tr>\n",
              "    <tr>\n",
              "      <th>1</th>\n",
              "      <td>41260</td>\n",
              "      <td>1</td>\n",
              "      <td>1.0</td>\n",
              "    </tr>\n",
              "    <tr>\n",
              "      <th>2</th>\n",
              "      <td>19360</td>\n",
              "      <td>1</td>\n",
              "      <td>1.0</td>\n",
              "    </tr>\n",
              "    <tr>\n",
              "      <th>3</th>\n",
              "      <td>19360</td>\n",
              "      <td>1</td>\n",
              "      <td>1.0</td>\n",
              "    </tr>\n",
              "    <tr>\n",
              "      <th>4</th>\n",
              "      <td>19360</td>\n",
              "      <td>1</td>\n",
              "      <td>1.0</td>\n",
              "    </tr>\n",
              "    <tr>\n",
              "      <th>...</th>\n",
              "      <td>...</td>\n",
              "      <td>...</td>\n",
              "      <td>...</td>\n",
              "    </tr>\n",
              "    <tr>\n",
              "      <th>257402</th>\n",
              "      <td>46282</td>\n",
              "      <td>10</td>\n",
              "      <td>1.0</td>\n",
              "    </tr>\n",
              "    <tr>\n",
              "      <th>257403</th>\n",
              "      <td>47716</td>\n",
              "      <td>10</td>\n",
              "      <td>1.0</td>\n",
              "    </tr>\n",
              "    <tr>\n",
              "      <th>257404</th>\n",
              "      <td>11175</td>\n",
              "      <td>10</td>\n",
              "      <td>1.0</td>\n",
              "    </tr>\n",
              "    <tr>\n",
              "      <th>257405</th>\n",
              "      <td>20009</td>\n",
              "      <td>10</td>\n",
              "      <td>1.0</td>\n",
              "    </tr>\n",
              "    <tr>\n",
              "      <th>257406</th>\n",
              "      <td>49048</td>\n",
              "      <td>10</td>\n",
              "      <td>1.0</td>\n",
              "    </tr>\n",
              "  </tbody>\n",
              "</table>\n",
              "<p>257407 rows × 3 columns</p>\n",
              "</div>"
            ],
            "text/plain": [
              "        user_id  category_id  freq\n",
              "0         37327            1   1.0\n",
              "1         41260            1   1.0\n",
              "2         19360            1   1.0\n",
              "3         19360            1   1.0\n",
              "4         19360            1   1.0\n",
              "...         ...          ...   ...\n",
              "257402    46282           10   1.0\n",
              "257403    47716           10   1.0\n",
              "257404    11175           10   1.0\n",
              "257405    20009           10   1.0\n",
              "257406    49048           10   1.0\n",
              "\n",
              "[257407 rows x 3 columns]"
            ]
          },
          "metadata": {
            "tags": []
          },
          "execution_count": 131
        }
      ]
    },
    {
      "cell_type": "code",
      "metadata": {
        "id": "QvKQMfMVOjS5"
      },
      "source": [
        "freqs = merged_df.groupby(['user_id','category_id'])['freq'].count()\n",
        "dataset = freqs.to_frame()"
      ],
      "execution_count": null,
      "outputs": []
    },
    {
      "cell_type": "code",
      "metadata": {
        "colab": {
          "base_uri": "https://localhost:8080/",
          "height": 419
        },
        "id": "zZk4FOOLRhnc",
        "outputId": "ff530972-4e53-47c5-ca72-161b31cfb374"
      },
      "source": [
        "dataset.reset_index(inplace=True)\n",
        "# del table['index']\n",
        "dataset = dataset.rename(columns={\"user_id\": \"userID\", \"category_id\": \"itemID\", \"freq\":\"rating\"})\n",
        "dataset"
      ],
      "execution_count": null,
      "outputs": [
        {
          "output_type": "execute_result",
          "data": {
            "text/html": [
              "<div>\n",
              "<style scoped>\n",
              "    .dataframe tbody tr th:only-of-type {\n",
              "        vertical-align: middle;\n",
              "    }\n",
              "\n",
              "    .dataframe tbody tr th {\n",
              "        vertical-align: top;\n",
              "    }\n",
              "\n",
              "    .dataframe thead th {\n",
              "        text-align: right;\n",
              "    }\n",
              "</style>\n",
              "<table border=\"1\" class=\"dataframe\">\n",
              "  <thead>\n",
              "    <tr style=\"text-align: right;\">\n",
              "      <th></th>\n",
              "      <th>userID</th>\n",
              "      <th>itemID</th>\n",
              "      <th>rating</th>\n",
              "    </tr>\n",
              "  </thead>\n",
              "  <tbody>\n",
              "    <tr>\n",
              "      <th>0</th>\n",
              "      <td>1</td>\n",
              "      <td>1</td>\n",
              "      <td>1</td>\n",
              "    </tr>\n",
              "    <tr>\n",
              "      <th>1</th>\n",
              "      <td>1</td>\n",
              "      <td>2</td>\n",
              "      <td>2</td>\n",
              "    </tr>\n",
              "    <tr>\n",
              "      <th>2</th>\n",
              "      <td>1</td>\n",
              "      <td>4</td>\n",
              "      <td>1</td>\n",
              "    </tr>\n",
              "    <tr>\n",
              "      <th>3</th>\n",
              "      <td>1</td>\n",
              "      <td>5</td>\n",
              "      <td>1</td>\n",
              "    </tr>\n",
              "    <tr>\n",
              "      <th>4</th>\n",
              "      <td>1</td>\n",
              "      <td>16</td>\n",
              "      <td>2</td>\n",
              "    </tr>\n",
              "    <tr>\n",
              "      <th>...</th>\n",
              "      <td>...</td>\n",
              "      <td>...</td>\n",
              "      <td>...</td>\n",
              "    </tr>\n",
              "    <tr>\n",
              "      <th>159864</th>\n",
              "      <td>50075</td>\n",
              "      <td>1</td>\n",
              "      <td>1</td>\n",
              "    </tr>\n",
              "    <tr>\n",
              "      <th>159865</th>\n",
              "      <td>50078</td>\n",
              "      <td>9</td>\n",
              "      <td>1</td>\n",
              "    </tr>\n",
              "    <tr>\n",
              "      <th>159866</th>\n",
              "      <td>50079</td>\n",
              "      <td>10</td>\n",
              "      <td>1</td>\n",
              "    </tr>\n",
              "    <tr>\n",
              "      <th>159867</th>\n",
              "      <td>50080</td>\n",
              "      <td>2</td>\n",
              "      <td>1</td>\n",
              "    </tr>\n",
              "    <tr>\n",
              "      <th>159868</th>\n",
              "      <td>50082</td>\n",
              "      <td>1</td>\n",
              "      <td>1</td>\n",
              "    </tr>\n",
              "  </tbody>\n",
              "</table>\n",
              "<p>159869 rows × 3 columns</p>\n",
              "</div>"
            ],
            "text/plain": [
              "        userID  itemID  rating\n",
              "0            1       1       1\n",
              "1            1       2       2\n",
              "2            1       4       1\n",
              "3            1       5       1\n",
              "4            1      16       2\n",
              "...        ...     ...     ...\n",
              "159864   50075       1       1\n",
              "159865   50078       9       1\n",
              "159866   50079      10       1\n",
              "159867   50080       2       1\n",
              "159868   50082       1       1\n",
              "\n",
              "[159869 rows x 3 columns]"
            ]
          },
          "metadata": {
            "tags": []
          },
          "execution_count": 133
        }
      ]
    },
    {
      "cell_type": "code",
      "metadata": {
        "id": "13oAt6foXbEx",
        "colab": {
          "base_uri": "https://localhost:8080/"
        },
        "outputId": "18cc9e84-cc6c-49e6-9d02-33e927214f84"
      },
      "source": [
        "dataset['rating'].describe()"
      ],
      "execution_count": null,
      "outputs": [
        {
          "output_type": "execute_result",
          "data": {
            "text/plain": [
              "count    159869.000000\n",
              "mean          1.610112\n",
              "std           0.944003\n",
              "min           1.000000\n",
              "25%           1.000000\n",
              "50%           1.000000\n",
              "75%           2.000000\n",
              "max           9.000000\n",
              "Name: rating, dtype: float64"
            ]
          },
          "metadata": {
            "tags": []
          },
          "execution_count": 134
        }
      ]
    },
    {
      "cell_type": "code",
      "metadata": {
        "id": "kJyAnRxGd9Ut",
        "colab": {
          "base_uri": "https://localhost:8080/"
        },
        "outputId": "cac3b5a1-f800-4ba1-fc39-91f80c4a102f"
      },
      "source": [
        "pip install scikit-surprise"
      ],
      "execution_count": null,
      "outputs": [
        {
          "output_type": "stream",
          "text": [
            "Requirement already satisfied: scikit-surprise in /usr/local/lib/python3.7/dist-packages (1.1.1)\n",
            "Requirement already satisfied: joblib>=0.11 in /usr/local/lib/python3.7/dist-packages (from scikit-surprise) (1.0.1)\n",
            "Requirement already satisfied: scipy>=1.0.0 in /usr/local/lib/python3.7/dist-packages (from scikit-surprise) (1.4.1)\n",
            "Requirement already satisfied: six>=1.10.0 in /usr/local/lib/python3.7/dist-packages (from scikit-surprise) (1.15.0)\n",
            "Requirement already satisfied: numpy>=1.11.2 in /usr/local/lib/python3.7/dist-packages (from scikit-surprise) (1.19.5)\n"
          ],
          "name": "stdout"
        }
      ]
    },
    {
      "cell_type": "code",
      "metadata": {
        "id": "06mDehb-haQt",
        "colab": {
          "base_uri": "https://localhost:8080/",
          "height": 450
        },
        "outputId": "97b85c01-76d0-4f3a-c58f-e758d9a7790e"
      },
      "source": [
        "table = dataset.pivot_table(values='rating', index='userID',columns='itemID')\n",
        "table"
      ],
      "execution_count": null,
      "outputs": [
        {
          "output_type": "execute_result",
          "data": {
            "text/html": [
              "<div>\n",
              "<style scoped>\n",
              "    .dataframe tbody tr th:only-of-type {\n",
              "        vertical-align: middle;\n",
              "    }\n",
              "\n",
              "    .dataframe tbody tr th {\n",
              "        vertical-align: top;\n",
              "    }\n",
              "\n",
              "    .dataframe thead th {\n",
              "        text-align: right;\n",
              "    }\n",
              "</style>\n",
              "<table border=\"1\" class=\"dataframe\">\n",
              "  <thead>\n",
              "    <tr style=\"text-align: right;\">\n",
              "      <th>itemID</th>\n",
              "      <th>1</th>\n",
              "      <th>2</th>\n",
              "      <th>3</th>\n",
              "      <th>4</th>\n",
              "      <th>5</th>\n",
              "      <th>6</th>\n",
              "      <th>7</th>\n",
              "      <th>8</th>\n",
              "      <th>9</th>\n",
              "      <th>10</th>\n",
              "      <th>11</th>\n",
              "      <th>12</th>\n",
              "      <th>13</th>\n",
              "      <th>14</th>\n",
              "      <th>15</th>\n",
              "      <th>16</th>\n",
              "      <th>17</th>\n",
              "      <th>18</th>\n",
              "    </tr>\n",
              "    <tr>\n",
              "      <th>userID</th>\n",
              "      <th></th>\n",
              "      <th></th>\n",
              "      <th></th>\n",
              "      <th></th>\n",
              "      <th></th>\n",
              "      <th></th>\n",
              "      <th></th>\n",
              "      <th></th>\n",
              "      <th></th>\n",
              "      <th></th>\n",
              "      <th></th>\n",
              "      <th></th>\n",
              "      <th></th>\n",
              "      <th></th>\n",
              "      <th></th>\n",
              "      <th></th>\n",
              "      <th></th>\n",
              "      <th></th>\n",
              "    </tr>\n",
              "  </thead>\n",
              "  <tbody>\n",
              "    <tr>\n",
              "      <th>1</th>\n",
              "      <td>1.0</td>\n",
              "      <td>2.0</td>\n",
              "      <td>NaN</td>\n",
              "      <td>1.0</td>\n",
              "      <td>1.0</td>\n",
              "      <td>NaN</td>\n",
              "      <td>NaN</td>\n",
              "      <td>NaN</td>\n",
              "      <td>NaN</td>\n",
              "      <td>NaN</td>\n",
              "      <td>NaN</td>\n",
              "      <td>NaN</td>\n",
              "      <td>NaN</td>\n",
              "      <td>NaN</td>\n",
              "      <td>NaN</td>\n",
              "      <td>2.0</td>\n",
              "      <td>NaN</td>\n",
              "      <td>NaN</td>\n",
              "    </tr>\n",
              "    <tr>\n",
              "      <th>4</th>\n",
              "      <td>3.0</td>\n",
              "      <td>2.0</td>\n",
              "      <td>1.0</td>\n",
              "      <td>NaN</td>\n",
              "      <td>1.0</td>\n",
              "      <td>1.0</td>\n",
              "      <td>NaN</td>\n",
              "      <td>NaN</td>\n",
              "      <td>NaN</td>\n",
              "      <td>NaN</td>\n",
              "      <td>NaN</td>\n",
              "      <td>1.0</td>\n",
              "      <td>NaN</td>\n",
              "      <td>NaN</td>\n",
              "      <td>NaN</td>\n",
              "      <td>NaN</td>\n",
              "      <td>NaN</td>\n",
              "      <td>NaN</td>\n",
              "    </tr>\n",
              "    <tr>\n",
              "      <th>5</th>\n",
              "      <td>1.0</td>\n",
              "      <td>NaN</td>\n",
              "      <td>3.0</td>\n",
              "      <td>NaN</td>\n",
              "      <td>NaN</td>\n",
              "      <td>1.0</td>\n",
              "      <td>NaN</td>\n",
              "      <td>NaN</td>\n",
              "      <td>NaN</td>\n",
              "      <td>NaN</td>\n",
              "      <td>NaN</td>\n",
              "      <td>NaN</td>\n",
              "      <td>NaN</td>\n",
              "      <td>NaN</td>\n",
              "      <td>NaN</td>\n",
              "      <td>NaN</td>\n",
              "      <td>NaN</td>\n",
              "      <td>NaN</td>\n",
              "    </tr>\n",
              "    <tr>\n",
              "      <th>6</th>\n",
              "      <td>3.0</td>\n",
              "      <td>4.0</td>\n",
              "      <td>NaN</td>\n",
              "      <td>2.0</td>\n",
              "      <td>1.0</td>\n",
              "      <td>NaN</td>\n",
              "      <td>1.0</td>\n",
              "      <td>NaN</td>\n",
              "      <td>1.0</td>\n",
              "      <td>NaN</td>\n",
              "      <td>NaN</td>\n",
              "      <td>NaN</td>\n",
              "      <td>NaN</td>\n",
              "      <td>NaN</td>\n",
              "      <td>NaN</td>\n",
              "      <td>1.0</td>\n",
              "      <td>NaN</td>\n",
              "      <td>NaN</td>\n",
              "    </tr>\n",
              "    <tr>\n",
              "      <th>7</th>\n",
              "      <td>2.0</td>\n",
              "      <td>2.0</td>\n",
              "      <td>NaN</td>\n",
              "      <td>NaN</td>\n",
              "      <td>2.0</td>\n",
              "      <td>1.0</td>\n",
              "      <td>NaN</td>\n",
              "      <td>NaN</td>\n",
              "      <td>NaN</td>\n",
              "      <td>NaN</td>\n",
              "      <td>NaN</td>\n",
              "      <td>NaN</td>\n",
              "      <td>NaN</td>\n",
              "      <td>NaN</td>\n",
              "      <td>NaN</td>\n",
              "      <td>NaN</td>\n",
              "      <td>NaN</td>\n",
              "      <td>NaN</td>\n",
              "    </tr>\n",
              "    <tr>\n",
              "      <th>...</th>\n",
              "      <td>...</td>\n",
              "      <td>...</td>\n",
              "      <td>...</td>\n",
              "      <td>...</td>\n",
              "      <td>...</td>\n",
              "      <td>...</td>\n",
              "      <td>...</td>\n",
              "      <td>...</td>\n",
              "      <td>...</td>\n",
              "      <td>...</td>\n",
              "      <td>...</td>\n",
              "      <td>...</td>\n",
              "      <td>...</td>\n",
              "      <td>...</td>\n",
              "      <td>...</td>\n",
              "      <td>...</td>\n",
              "      <td>...</td>\n",
              "      <td>...</td>\n",
              "    </tr>\n",
              "    <tr>\n",
              "      <th>50075</th>\n",
              "      <td>1.0</td>\n",
              "      <td>NaN</td>\n",
              "      <td>NaN</td>\n",
              "      <td>NaN</td>\n",
              "      <td>NaN</td>\n",
              "      <td>NaN</td>\n",
              "      <td>NaN</td>\n",
              "      <td>NaN</td>\n",
              "      <td>NaN</td>\n",
              "      <td>NaN</td>\n",
              "      <td>NaN</td>\n",
              "      <td>NaN</td>\n",
              "      <td>NaN</td>\n",
              "      <td>NaN</td>\n",
              "      <td>NaN</td>\n",
              "      <td>NaN</td>\n",
              "      <td>NaN</td>\n",
              "      <td>NaN</td>\n",
              "    </tr>\n",
              "    <tr>\n",
              "      <th>50078</th>\n",
              "      <td>NaN</td>\n",
              "      <td>NaN</td>\n",
              "      <td>NaN</td>\n",
              "      <td>NaN</td>\n",
              "      <td>NaN</td>\n",
              "      <td>NaN</td>\n",
              "      <td>NaN</td>\n",
              "      <td>NaN</td>\n",
              "      <td>1.0</td>\n",
              "      <td>NaN</td>\n",
              "      <td>NaN</td>\n",
              "      <td>NaN</td>\n",
              "      <td>NaN</td>\n",
              "      <td>NaN</td>\n",
              "      <td>NaN</td>\n",
              "      <td>NaN</td>\n",
              "      <td>NaN</td>\n",
              "      <td>NaN</td>\n",
              "    </tr>\n",
              "    <tr>\n",
              "      <th>50079</th>\n",
              "      <td>NaN</td>\n",
              "      <td>NaN</td>\n",
              "      <td>NaN</td>\n",
              "      <td>NaN</td>\n",
              "      <td>NaN</td>\n",
              "      <td>NaN</td>\n",
              "      <td>NaN</td>\n",
              "      <td>NaN</td>\n",
              "      <td>NaN</td>\n",
              "      <td>1.0</td>\n",
              "      <td>NaN</td>\n",
              "      <td>NaN</td>\n",
              "      <td>NaN</td>\n",
              "      <td>NaN</td>\n",
              "      <td>NaN</td>\n",
              "      <td>NaN</td>\n",
              "      <td>NaN</td>\n",
              "      <td>NaN</td>\n",
              "    </tr>\n",
              "    <tr>\n",
              "      <th>50080</th>\n",
              "      <td>NaN</td>\n",
              "      <td>1.0</td>\n",
              "      <td>NaN</td>\n",
              "      <td>NaN</td>\n",
              "      <td>NaN</td>\n",
              "      <td>NaN</td>\n",
              "      <td>NaN</td>\n",
              "      <td>NaN</td>\n",
              "      <td>NaN</td>\n",
              "      <td>NaN</td>\n",
              "      <td>NaN</td>\n",
              "      <td>NaN</td>\n",
              "      <td>NaN</td>\n",
              "      <td>NaN</td>\n",
              "      <td>NaN</td>\n",
              "      <td>NaN</td>\n",
              "      <td>NaN</td>\n",
              "      <td>NaN</td>\n",
              "    </tr>\n",
              "    <tr>\n",
              "      <th>50082</th>\n",
              "      <td>1.0</td>\n",
              "      <td>NaN</td>\n",
              "      <td>NaN</td>\n",
              "      <td>NaN</td>\n",
              "      <td>NaN</td>\n",
              "      <td>NaN</td>\n",
              "      <td>NaN</td>\n",
              "      <td>NaN</td>\n",
              "      <td>NaN</td>\n",
              "      <td>NaN</td>\n",
              "      <td>NaN</td>\n",
              "      <td>NaN</td>\n",
              "      <td>NaN</td>\n",
              "      <td>NaN</td>\n",
              "      <td>NaN</td>\n",
              "      <td>NaN</td>\n",
              "      <td>NaN</td>\n",
              "      <td>NaN</td>\n",
              "    </tr>\n",
              "  </tbody>\n",
              "</table>\n",
              "<p>29972 rows × 18 columns</p>\n",
              "</div>"
            ],
            "text/plain": [
              "itemID   1    2    3    4    5    6    7   8   ...  11   12  13  14  15   16  17  18\n",
              "userID                                         ...                                  \n",
              "1       1.0  2.0  NaN  1.0  1.0  NaN  NaN NaN  ... NaN  NaN NaN NaN NaN  2.0 NaN NaN\n",
              "4       3.0  2.0  1.0  NaN  1.0  1.0  NaN NaN  ... NaN  1.0 NaN NaN NaN  NaN NaN NaN\n",
              "5       1.0  NaN  3.0  NaN  NaN  1.0  NaN NaN  ... NaN  NaN NaN NaN NaN  NaN NaN NaN\n",
              "6       3.0  4.0  NaN  2.0  1.0  NaN  1.0 NaN  ... NaN  NaN NaN NaN NaN  1.0 NaN NaN\n",
              "7       2.0  2.0  NaN  NaN  2.0  1.0  NaN NaN  ... NaN  NaN NaN NaN NaN  NaN NaN NaN\n",
              "...     ...  ...  ...  ...  ...  ...  ...  ..  ...  ..  ...  ..  ..  ..  ...  ..  ..\n",
              "50075   1.0  NaN  NaN  NaN  NaN  NaN  NaN NaN  ... NaN  NaN NaN NaN NaN  NaN NaN NaN\n",
              "50078   NaN  NaN  NaN  NaN  NaN  NaN  NaN NaN  ... NaN  NaN NaN NaN NaN  NaN NaN NaN\n",
              "50079   NaN  NaN  NaN  NaN  NaN  NaN  NaN NaN  ... NaN  NaN NaN NaN NaN  NaN NaN NaN\n",
              "50080   NaN  1.0  NaN  NaN  NaN  NaN  NaN NaN  ... NaN  NaN NaN NaN NaN  NaN NaN NaN\n",
              "50082   1.0  NaN  NaN  NaN  NaN  NaN  NaN NaN  ... NaN  NaN NaN NaN NaN  NaN NaN NaN\n",
              "\n",
              "[29972 rows x 18 columns]"
            ]
          },
          "metadata": {
            "tags": []
          },
          "execution_count": 136
        }
      ]
    },
    {
      "cell_type": "code",
      "metadata": {
        "id": "gNjYYgkmdDxC"
      },
      "source": [
        "import surprise\n",
        "from surprise import Reader, Dataset, SVD, BaselineOnly, KNNBasic, KNNWithMeans, KNNBaseline, KNNWithZScore, SlopeOne\n",
        "from surprise.model_selection import cross_validate"
      ],
      "execution_count": null,
      "outputs": []
    },
    {
      "cell_type": "markdown",
      "metadata": {
        "id": "iWDu9UFSaVJq"
      },
      "source": [
        "## Testing Trained model on Target_predictions"
      ]
    },
    {
      "cell_type": "code",
      "metadata": {
        "id": "COd5xlL9aR8w",
        "colab": {
          "base_uri": "https://localhost:8080/",
          "height": 419
        },
        "outputId": "58c1298e-af72-4756-f12a-cec0c1218840"
      },
      "source": [
        "del target_data['aov']\n",
        "target_data"
      ],
      "execution_count": null,
      "outputs": [
        {
          "output_type": "execute_result",
          "data": {
            "text/html": [
              "<div>\n",
              "<style scoped>\n",
              "    .dataframe tbody tr th:only-of-type {\n",
              "        vertical-align: middle;\n",
              "    }\n",
              "\n",
              "    .dataframe tbody tr th {\n",
              "        vertical-align: top;\n",
              "    }\n",
              "\n",
              "    .dataframe thead th {\n",
              "        text-align: right;\n",
              "    }\n",
              "</style>\n",
              "<table border=\"1\" class=\"dataframe\">\n",
              "  <thead>\n",
              "    <tr style=\"text-align: right;\">\n",
              "      <th></th>\n",
              "      <th>user_id</th>\n",
              "      <th>category</th>\n",
              "    </tr>\n",
              "  </thead>\n",
              "  <tbody>\n",
              "    <tr>\n",
              "      <th>0</th>\n",
              "      <td>13153</td>\n",
              "      <td>Phones</td>\n",
              "    </tr>\n",
              "    <tr>\n",
              "      <th>1</th>\n",
              "      <td>42853</td>\n",
              "      <td>Phones</td>\n",
              "    </tr>\n",
              "    <tr>\n",
              "      <th>2</th>\n",
              "      <td>30550</td>\n",
              "      <td>Phones</td>\n",
              "    </tr>\n",
              "    <tr>\n",
              "      <th>3</th>\n",
              "      <td>9797</td>\n",
              "      <td>Phones</td>\n",
              "    </tr>\n",
              "    <tr>\n",
              "      <th>4</th>\n",
              "      <td>8171</td>\n",
              "      <td>Phones</td>\n",
              "    </tr>\n",
              "    <tr>\n",
              "      <th>...</th>\n",
              "      <td>...</td>\n",
              "      <td>...</td>\n",
              "    </tr>\n",
              "    <tr>\n",
              "      <th>13240</th>\n",
              "      <td>49383</td>\n",
              "      <td>Fashion</td>\n",
              "    </tr>\n",
              "    <tr>\n",
              "      <th>13241</th>\n",
              "      <td>49590</td>\n",
              "      <td>Home Decor</td>\n",
              "    </tr>\n",
              "    <tr>\n",
              "      <th>13242</th>\n",
              "      <td>49799</td>\n",
              "      <td>Fitness</td>\n",
              "    </tr>\n",
              "    <tr>\n",
              "      <th>13243</th>\n",
              "      <td>49900</td>\n",
              "      <td>Fitness</td>\n",
              "    </tr>\n",
              "    <tr>\n",
              "      <th>13244</th>\n",
              "      <td>49912</td>\n",
              "      <td>Fashion</td>\n",
              "    </tr>\n",
              "  </tbody>\n",
              "</table>\n",
              "<p>13245 rows × 2 columns</p>\n",
              "</div>"
            ],
            "text/plain": [
              "       user_id    category\n",
              "0        13153      Phones\n",
              "1        42853      Phones\n",
              "2        30550      Phones\n",
              "3         9797      Phones\n",
              "4         8171      Phones\n",
              "...        ...         ...\n",
              "13240    49383     Fashion\n",
              "13241    49590  Home Decor\n",
              "13242    49799     Fitness\n",
              "13243    49900     Fitness\n",
              "13244    49912     Fashion\n",
              "\n",
              "[13245 rows x 2 columns]"
            ]
          },
          "metadata": {
            "tags": []
          },
          "execution_count": 139
        }
      ]
    },
    {
      "cell_type": "code",
      "metadata": {
        "id": "N0IiPMyNaRm6",
        "colab": {
          "base_uri": "https://localhost:8080/"
        },
        "outputId": "98059c58-bb6a-4054-d63d-d073b6b741f0"
      },
      "source": [
        "target_data[\"category\"].value_counts()"
      ],
      "execution_count": null,
      "outputs": [
        {
          "output_type": "execute_result",
          "data": {
            "text/plain": [
              "Phones                       7124\n",
              "Fashion                      2195\n",
              "Pet Supplies                  910\n",
              "Ereaders                      887\n",
              "Fitness                       874\n",
              "TVs                           426\n",
              "Laptops                       308\n",
              "Home Decor                    238\n",
              "Consumer Durables             186\n",
              "Toys                           58\n",
              "Back to School                 19\n",
              "Gaming                         10\n",
              "Groceries                       8\n",
              "Kitchen cleaning Supplies       2\n",
              "Name: category, dtype: int64"
            ]
          },
          "metadata": {
            "tags": []
          },
          "execution_count": 140
        }
      ]
    },
    {
      "cell_type": "code",
      "metadata": {
        "id": "bc4vMDhFbCXV"
      },
      "source": [
        "category = ['Phones', 'Fashion', 'Home Decor', 'Toys','Groceries','Back to School','Gaming','Consumer Durables','Books','Kitchen cleaning Supplies','Beauty Products','Ereaders','Board Games','Painiting Supplies','Pet Supplies','Fitness','Laptops','TVs']\n",
        "\n",
        "item_dict = {}\n",
        "for i in range(1,19):\n",
        "  item_dict[i] = category[i-1]"
      ],
      "execution_count": null,
      "outputs": []
    },
    {
      "cell_type": "code",
      "metadata": {
        "id": "msPNZsz2bCXG"
      },
      "source": [
        "#@title Default title text\n",
        "# top1 = [[] for i in range(len(target_data))] \n",
        "# accuracy = 0\n",
        "# from operator import itemgetter\n",
        "# # Cross-validation of parameters\n",
        "# for i in range(len(target_data)):\n",
        "#     for iid in range(1,19):\n",
        "#         est = algo1.predict(target_data.iloc[i][0], iid, verbose=False).est\n",
        "#         top1[i].append([iid,est])\n",
        "#     b=sorted(top1[i], key=itemgetter(1),reverse=True)\n",
        "#     if (item_dict[b[0][0]] == target_data.iloc[i].iloc[1]) : \n",
        "#       accuracy=accuracy+1\n",
        "  \n",
        "# accuracy = accuracy/(len(target_data))\n",
        "# accuracy"
      ],
      "execution_count": null,
      "outputs": []
    },
    {
      "cell_type": "code",
      "metadata": {
        "id": "seFXbAYhzpXw"
      },
      "source": [
        "#@title\n",
        "# table = merged_df.pivot_table(values='count', index='user_id',columns='category_id', aggfunc=sum)\n",
        "# cross_validate(algo1, data, measures=['RMSE', 'MAE'], cv=5, verbose=True)"
      ],
      "execution_count": null,
      "outputs": []
    },
    {
      "cell_type": "code",
      "metadata": {
        "id": "RIippCp3PGHW",
        "cellView": "form"
      },
      "source": [
        "#@title\n",
        "# import matplotlib.pyplot as plt\n",
        "# import seaborn as sns\n",
        "# df = data.corr()\n",
        "# sns.heatmap(df,annot = True,square = True)\n",
        "# plt.show()"
      ],
      "execution_count": null,
      "outputs": []
    },
    {
      "cell_type": "markdown",
      "metadata": {
        "id": "-nqntG36JlKp"
      },
      "source": [
        "## Processing test data"
      ]
    },
    {
      "cell_type": "code",
      "metadata": {
        "id": "R-zp3gaGJveS"
      },
      "source": [
        "test_data = pd.read_csv('/content/drive/MyDrive/mlproject2/Test Data.csv')\n",
        "del test_data[\"Unnamed: 0\"]"
      ],
      "execution_count": null,
      "outputs": []
    },
    {
      "cell_type": "code",
      "metadata": {
        "id": "5w-VKiXlYlwq"
      },
      "source": [
        "del test_data[\"aov\"]"
      ],
      "execution_count": null,
      "outputs": []
    },
    {
      "cell_type": "code",
      "metadata": {
        "id": "3fY5MTZoYlxL",
        "colab": {
          "base_uri": "https://localhost:8080/"
        },
        "outputId": "374844c4-e132-423a-eda8-518ce676d5b5"
      },
      "source": [
        "test_data[\"category\"].value_counts()"
      ],
      "execution_count": null,
      "outputs": [
        {
          "output_type": "execute_result",
          "data": {
            "text/plain": [
              "Phones                       44627\n",
              "Fashion                      40082\n",
              "Home Decor                   19911\n",
              "Toys                         14096\n",
              "Groceries                     8559\n",
              "Back to School                8405\n",
              "Gaming                        8109\n",
              "Consumer Durables             7984\n",
              "Books                         3968\n",
              "Ereaders                      2163\n",
              "Pet Supplies                  2059\n",
              "Beauty Products               2055\n",
              "Kitchen cleaning Supplies     2042\n",
              "Painiting Supplies            1987\n",
              "Board Games                   1981\n",
              "Fitness                       1961\n",
              "Laptops                       1310\n",
              "TVs                           1255\n",
              "Name: category, dtype: int64"
            ]
          },
          "metadata": {
            "tags": []
          },
          "execution_count": 148
        }
      ]
    },
    {
      "cell_type": "code",
      "metadata": {
        "colab": {
          "base_uri": "https://localhost:8080/"
        },
        "id": "sDXFZlTZtiQT",
        "outputId": "1d06c9fc-ffa0-4c0f-fecc-a4948e83e5cc"
      },
      "source": [
        "test_data[\"user_id\"].value_counts().describe()"
      ],
      "execution_count": null,
      "outputs": [
        {
          "output_type": "execute_result",
          "data": {
            "text/plain": [
              "count    19981.000000\n",
              "mean         8.635904\n",
              "std          3.366444\n",
              "min          1.000000\n",
              "25%          6.000000\n",
              "50%          9.000000\n",
              "75%         11.000000\n",
              "max         26.000000\n",
              "Name: user_id, dtype: float64"
            ]
          },
          "metadata": {
            "tags": []
          },
          "execution_count": 149
        }
      ]
    },
    {
      "cell_type": "code",
      "metadata": {
        "id": "ccv3-KxvYlxN",
        "colab": {
          "base_uri": "https://localhost:8080/",
          "height": 419
        },
        "outputId": "0ac32778-5609-4308-bbf2-0148589d2899"
      },
      "source": [
        "category = ['Phones', 'Fashion', 'Home Decor', 'Toys','Groceries','Back to School','Gaming','Consumer Durables','Books','Kitchen cleaning Supplies','Beauty Products','Ereaders','Board Games','Painiting Supplies','Pet Supplies','Fitness','Laptops','TVs']\n",
        "category_id = list(range(1,19))\n",
        "# get the list of tuples from two lists.\n",
        "# and merge them by using zip().\n",
        "list_of_tuples = list(zip(category, category_id))\n",
        "df = pd.DataFrame(list_of_tuples,columns = ['category', 'category_id'])\n",
        "merged_df = pd.merge(test_data,df,on='category')\n",
        "del merged_df[\"category\"]\n",
        "merged_df"
      ],
      "execution_count": null,
      "outputs": [
        {
          "output_type": "execute_result",
          "data": {
            "text/html": [
              "<div>\n",
              "<style scoped>\n",
              "    .dataframe tbody tr th:only-of-type {\n",
              "        vertical-align: middle;\n",
              "    }\n",
              "\n",
              "    .dataframe tbody tr th {\n",
              "        vertical-align: top;\n",
              "    }\n",
              "\n",
              "    .dataframe thead th {\n",
              "        text-align: right;\n",
              "    }\n",
              "</style>\n",
              "<table border=\"1\" class=\"dataframe\">\n",
              "  <thead>\n",
              "    <tr style=\"text-align: right;\">\n",
              "      <th></th>\n",
              "      <th>user_id</th>\n",
              "      <th>category_id</th>\n",
              "    </tr>\n",
              "  </thead>\n",
              "  <tbody>\n",
              "    <tr>\n",
              "      <th>0</th>\n",
              "      <td>43323</td>\n",
              "      <td>1</td>\n",
              "    </tr>\n",
              "    <tr>\n",
              "      <th>1</th>\n",
              "      <td>43323</td>\n",
              "      <td>1</td>\n",
              "    </tr>\n",
              "    <tr>\n",
              "      <th>2</th>\n",
              "      <td>43323</td>\n",
              "      <td>1</td>\n",
              "    </tr>\n",
              "    <tr>\n",
              "      <th>3</th>\n",
              "      <td>43323</td>\n",
              "      <td>1</td>\n",
              "    </tr>\n",
              "    <tr>\n",
              "      <th>4</th>\n",
              "      <td>4269</td>\n",
              "      <td>1</td>\n",
              "    </tr>\n",
              "    <tr>\n",
              "      <th>...</th>\n",
              "      <td>...</td>\n",
              "      <td>...</td>\n",
              "    </tr>\n",
              "    <tr>\n",
              "      <th>172549</th>\n",
              "      <td>459</td>\n",
              "      <td>14</td>\n",
              "    </tr>\n",
              "    <tr>\n",
              "      <th>172550</th>\n",
              "      <td>3215</td>\n",
              "      <td>14</td>\n",
              "    </tr>\n",
              "    <tr>\n",
              "      <th>172551</th>\n",
              "      <td>927</td>\n",
              "      <td>14</td>\n",
              "    </tr>\n",
              "    <tr>\n",
              "      <th>172552</th>\n",
              "      <td>927</td>\n",
              "      <td>14</td>\n",
              "    </tr>\n",
              "    <tr>\n",
              "      <th>172553</th>\n",
              "      <td>26961</td>\n",
              "      <td>14</td>\n",
              "    </tr>\n",
              "  </tbody>\n",
              "</table>\n",
              "<p>172554 rows × 2 columns</p>\n",
              "</div>"
            ],
            "text/plain": [
              "        user_id  category_id\n",
              "0         43323            1\n",
              "1         43323            1\n",
              "2         43323            1\n",
              "3         43323            1\n",
              "4          4269            1\n",
              "...         ...          ...\n",
              "172549      459           14\n",
              "172550     3215           14\n",
              "172551      927           14\n",
              "172552      927           14\n",
              "172553    26961           14\n",
              "\n",
              "[172554 rows x 2 columns]"
            ]
          },
          "metadata": {
            "tags": []
          },
          "execution_count": 150
        }
      ]
    },
    {
      "cell_type": "code",
      "metadata": {
        "id": "QiCBJVY5Z4wG",
        "colab": {
          "base_uri": "https://localhost:8080/",
          "height": 419
        },
        "outputId": "a3f98f9a-0927-45a4-e6ba-228ffaff02ef"
      },
      "source": [
        "test_data"
      ],
      "execution_count": null,
      "outputs": [
        {
          "output_type": "execute_result",
          "data": {
            "text/html": [
              "<div>\n",
              "<style scoped>\n",
              "    .dataframe tbody tr th:only-of-type {\n",
              "        vertical-align: middle;\n",
              "    }\n",
              "\n",
              "    .dataframe tbody tr th {\n",
              "        vertical-align: top;\n",
              "    }\n",
              "\n",
              "    .dataframe thead th {\n",
              "        text-align: right;\n",
              "    }\n",
              "</style>\n",
              "<table border=\"1\" class=\"dataframe\">\n",
              "  <thead>\n",
              "    <tr style=\"text-align: right;\">\n",
              "      <th></th>\n",
              "      <th>user_id</th>\n",
              "      <th>category</th>\n",
              "    </tr>\n",
              "  </thead>\n",
              "  <tbody>\n",
              "    <tr>\n",
              "      <th>0</th>\n",
              "      <td>43323</td>\n",
              "      <td>Phones</td>\n",
              "    </tr>\n",
              "    <tr>\n",
              "      <th>1</th>\n",
              "      <td>43323</td>\n",
              "      <td>Phones</td>\n",
              "    </tr>\n",
              "    <tr>\n",
              "      <th>2</th>\n",
              "      <td>43323</td>\n",
              "      <td>Phones</td>\n",
              "    </tr>\n",
              "    <tr>\n",
              "      <th>3</th>\n",
              "      <td>43323</td>\n",
              "      <td>Phones</td>\n",
              "    </tr>\n",
              "    <tr>\n",
              "      <th>4</th>\n",
              "      <td>43323</td>\n",
              "      <td>Fashion</td>\n",
              "    </tr>\n",
              "    <tr>\n",
              "      <th>...</th>\n",
              "      <td>...</td>\n",
              "      <td>...</td>\n",
              "    </tr>\n",
              "    <tr>\n",
              "      <th>172549</th>\n",
              "      <td>12403</td>\n",
              "      <td>Groceries</td>\n",
              "    </tr>\n",
              "    <tr>\n",
              "      <th>172550</th>\n",
              "      <td>31036</td>\n",
              "      <td>Back to School</td>\n",
              "    </tr>\n",
              "    <tr>\n",
              "      <th>172551</th>\n",
              "      <td>12652</td>\n",
              "      <td>Fashion</td>\n",
              "    </tr>\n",
              "    <tr>\n",
              "      <th>172552</th>\n",
              "      <td>35726</td>\n",
              "      <td>Kitchen cleaning Supplies</td>\n",
              "    </tr>\n",
              "    <tr>\n",
              "      <th>172553</th>\n",
              "      <td>19871</td>\n",
              "      <td>Fashion</td>\n",
              "    </tr>\n",
              "  </tbody>\n",
              "</table>\n",
              "<p>172554 rows × 2 columns</p>\n",
              "</div>"
            ],
            "text/plain": [
              "        user_id                   category\n",
              "0         43323                     Phones\n",
              "1         43323                     Phones\n",
              "2         43323                     Phones\n",
              "3         43323                     Phones\n",
              "4         43323                    Fashion\n",
              "...         ...                        ...\n",
              "172549    12403                  Groceries\n",
              "172550    31036             Back to School\n",
              "172551    12652                    Fashion\n",
              "172552    35726  Kitchen cleaning Supplies\n",
              "172553    19871                    Fashion\n",
              "\n",
              "[172554 rows x 2 columns]"
            ]
          },
          "metadata": {
            "tags": []
          },
          "execution_count": 151
        }
      ]
    },
    {
      "cell_type": "code",
      "metadata": {
        "id": "lWZ9w4aeYlxO",
        "colab": {
          "base_uri": "https://localhost:8080/",
          "height": 419
        },
        "outputId": "da5333c3-d78f-473e-e640-01ee135f5eab"
      },
      "source": [
        "merged_df.insert(2, \"freq\", list(ones(test_data.shape[0])), True)\n",
        "merged_df"
      ],
      "execution_count": null,
      "outputs": [
        {
          "output_type": "execute_result",
          "data": {
            "text/html": [
              "<div>\n",
              "<style scoped>\n",
              "    .dataframe tbody tr th:only-of-type {\n",
              "        vertical-align: middle;\n",
              "    }\n",
              "\n",
              "    .dataframe tbody tr th {\n",
              "        vertical-align: top;\n",
              "    }\n",
              "\n",
              "    .dataframe thead th {\n",
              "        text-align: right;\n",
              "    }\n",
              "</style>\n",
              "<table border=\"1\" class=\"dataframe\">\n",
              "  <thead>\n",
              "    <tr style=\"text-align: right;\">\n",
              "      <th></th>\n",
              "      <th>user_id</th>\n",
              "      <th>category_id</th>\n",
              "      <th>freq</th>\n",
              "    </tr>\n",
              "  </thead>\n",
              "  <tbody>\n",
              "    <tr>\n",
              "      <th>0</th>\n",
              "      <td>43323</td>\n",
              "      <td>1</td>\n",
              "      <td>1.0</td>\n",
              "    </tr>\n",
              "    <tr>\n",
              "      <th>1</th>\n",
              "      <td>43323</td>\n",
              "      <td>1</td>\n",
              "      <td>1.0</td>\n",
              "    </tr>\n",
              "    <tr>\n",
              "      <th>2</th>\n",
              "      <td>43323</td>\n",
              "      <td>1</td>\n",
              "      <td>1.0</td>\n",
              "    </tr>\n",
              "    <tr>\n",
              "      <th>3</th>\n",
              "      <td>43323</td>\n",
              "      <td>1</td>\n",
              "      <td>1.0</td>\n",
              "    </tr>\n",
              "    <tr>\n",
              "      <th>4</th>\n",
              "      <td>4269</td>\n",
              "      <td>1</td>\n",
              "      <td>1.0</td>\n",
              "    </tr>\n",
              "    <tr>\n",
              "      <th>...</th>\n",
              "      <td>...</td>\n",
              "      <td>...</td>\n",
              "      <td>...</td>\n",
              "    </tr>\n",
              "    <tr>\n",
              "      <th>172549</th>\n",
              "      <td>459</td>\n",
              "      <td>14</td>\n",
              "      <td>1.0</td>\n",
              "    </tr>\n",
              "    <tr>\n",
              "      <th>172550</th>\n",
              "      <td>3215</td>\n",
              "      <td>14</td>\n",
              "      <td>1.0</td>\n",
              "    </tr>\n",
              "    <tr>\n",
              "      <th>172551</th>\n",
              "      <td>927</td>\n",
              "      <td>14</td>\n",
              "      <td>1.0</td>\n",
              "    </tr>\n",
              "    <tr>\n",
              "      <th>172552</th>\n",
              "      <td>927</td>\n",
              "      <td>14</td>\n",
              "      <td>1.0</td>\n",
              "    </tr>\n",
              "    <tr>\n",
              "      <th>172553</th>\n",
              "      <td>26961</td>\n",
              "      <td>14</td>\n",
              "      <td>1.0</td>\n",
              "    </tr>\n",
              "  </tbody>\n",
              "</table>\n",
              "<p>172554 rows × 3 columns</p>\n",
              "</div>"
            ],
            "text/plain": [
              "        user_id  category_id  freq\n",
              "0         43323            1   1.0\n",
              "1         43323            1   1.0\n",
              "2         43323            1   1.0\n",
              "3         43323            1   1.0\n",
              "4          4269            1   1.0\n",
              "...         ...          ...   ...\n",
              "172549      459           14   1.0\n",
              "172550     3215           14   1.0\n",
              "172551      927           14   1.0\n",
              "172552      927           14   1.0\n",
              "172553    26961           14   1.0\n",
              "\n",
              "[172554 rows x 3 columns]"
            ]
          },
          "metadata": {
            "tags": []
          },
          "execution_count": 152
        }
      ]
    },
    {
      "cell_type": "code",
      "metadata": {
        "id": "ceXT1WVXYlxP"
      },
      "source": [
        "freqs = merged_df.groupby(['user_id','category_id'])['freq'].count()\n",
        "test_dataset = freqs.to_frame()"
      ],
      "execution_count": null,
      "outputs": []
    },
    {
      "cell_type": "code",
      "metadata": {
        "id": "oe8RljwQYlxQ",
        "colab": {
          "base_uri": "https://localhost:8080/",
          "height": 419
        },
        "outputId": "f2d99c1b-d2aa-489f-8c77-769f82242b6e"
      },
      "source": [
        "test_dataset.reset_index(inplace=True)\n",
        "test_dataset = test_dataset.rename(columns={\"user_id\": \"userID\", \"category_id\": \"itemID\", \"freq\":\"rating\"})\n",
        "test_dataset"
      ],
      "execution_count": null,
      "outputs": [
        {
          "output_type": "execute_result",
          "data": {
            "text/html": [
              "<div>\n",
              "<style scoped>\n",
              "    .dataframe tbody tr th:only-of-type {\n",
              "        vertical-align: middle;\n",
              "    }\n",
              "\n",
              "    .dataframe tbody tr th {\n",
              "        vertical-align: top;\n",
              "    }\n",
              "\n",
              "    .dataframe thead th {\n",
              "        text-align: right;\n",
              "    }\n",
              "</style>\n",
              "<table border=\"1\" class=\"dataframe\">\n",
              "  <thead>\n",
              "    <tr style=\"text-align: right;\">\n",
              "      <th></th>\n",
              "      <th>userID</th>\n",
              "      <th>itemID</th>\n",
              "      <th>rating</th>\n",
              "    </tr>\n",
              "  </thead>\n",
              "  <tbody>\n",
              "    <tr>\n",
              "      <th>0</th>\n",
              "      <td>2</td>\n",
              "      <td>1</td>\n",
              "      <td>2</td>\n",
              "    </tr>\n",
              "    <tr>\n",
              "      <th>1</th>\n",
              "      <td>2</td>\n",
              "      <td>2</td>\n",
              "      <td>2</td>\n",
              "    </tr>\n",
              "    <tr>\n",
              "      <th>2</th>\n",
              "      <td>2</td>\n",
              "      <td>12</td>\n",
              "      <td>1</td>\n",
              "    </tr>\n",
              "    <tr>\n",
              "      <th>3</th>\n",
              "      <td>2</td>\n",
              "      <td>16</td>\n",
              "      <td>1</td>\n",
              "    </tr>\n",
              "    <tr>\n",
              "      <th>4</th>\n",
              "      <td>3</td>\n",
              "      <td>1</td>\n",
              "      <td>3</td>\n",
              "    </tr>\n",
              "    <tr>\n",
              "      <th>...</th>\n",
              "      <td>...</td>\n",
              "      <td>...</td>\n",
              "      <td>...</td>\n",
              "    </tr>\n",
              "    <tr>\n",
              "      <th>107058</th>\n",
              "      <td>50037</td>\n",
              "      <td>5</td>\n",
              "      <td>1</td>\n",
              "    </tr>\n",
              "    <tr>\n",
              "      <th>107059</th>\n",
              "      <td>50050</td>\n",
              "      <td>5</td>\n",
              "      <td>1</td>\n",
              "    </tr>\n",
              "    <tr>\n",
              "      <th>107060</th>\n",
              "      <td>50050</td>\n",
              "      <td>6</td>\n",
              "      <td>1</td>\n",
              "    </tr>\n",
              "    <tr>\n",
              "      <th>107061</th>\n",
              "      <td>50074</td>\n",
              "      <td>10</td>\n",
              "      <td>1</td>\n",
              "    </tr>\n",
              "    <tr>\n",
              "      <th>107062</th>\n",
              "      <td>50089</td>\n",
              "      <td>6</td>\n",
              "      <td>1</td>\n",
              "    </tr>\n",
              "  </tbody>\n",
              "</table>\n",
              "<p>107063 rows × 3 columns</p>\n",
              "</div>"
            ],
            "text/plain": [
              "        userID  itemID  rating\n",
              "0            2       1       2\n",
              "1            2       2       2\n",
              "2            2      12       1\n",
              "3            2      16       1\n",
              "4            3       1       3\n",
              "...        ...     ...     ...\n",
              "107058   50037       5       1\n",
              "107059   50050       5       1\n",
              "107060   50050       6       1\n",
              "107061   50074      10       1\n",
              "107062   50089       6       1\n",
              "\n",
              "[107063 rows x 3 columns]"
            ]
          },
          "metadata": {
            "tags": []
          },
          "execution_count": 154
        }
      ]
    },
    {
      "cell_type": "code",
      "metadata": {
        "id": "q5GQs1CDYlxQ",
        "colab": {
          "base_uri": "https://localhost:8080/"
        },
        "outputId": "c4c9a1a9-b314-44a6-9315-d8877b0e43e0"
      },
      "source": [
        "test_dataset['rating'].describe()"
      ],
      "execution_count": null,
      "outputs": [
        {
          "output_type": "execute_result",
          "data": {
            "text/plain": [
              "count    107063.000000\n",
              "mean          1.611705\n",
              "std           0.941935\n",
              "min           1.000000\n",
              "25%           1.000000\n",
              "50%           1.000000\n",
              "75%           2.000000\n",
              "max           8.000000\n",
              "Name: rating, dtype: float64"
            ]
          },
          "metadata": {
            "tags": []
          },
          "execution_count": 155
        }
      ]
    },
    {
      "cell_type": "code",
      "metadata": {
        "id": "fnZb6rN7MImH",
        "colab": {
          "base_uri": "https://localhost:8080/",
          "height": 419
        },
        "outputId": "75c8f76e-7f66-47ca-82b0-1db77c083063"
      },
      "source": [
        "frames = [dataset, test_dataset]\n",
        "train_dataset = pd.concat(frames,ignore_index=True)\n",
        "train_dataset"
      ],
      "execution_count": null,
      "outputs": [
        {
          "output_type": "execute_result",
          "data": {
            "text/html": [
              "<div>\n",
              "<style scoped>\n",
              "    .dataframe tbody tr th:only-of-type {\n",
              "        vertical-align: middle;\n",
              "    }\n",
              "\n",
              "    .dataframe tbody tr th {\n",
              "        vertical-align: top;\n",
              "    }\n",
              "\n",
              "    .dataframe thead th {\n",
              "        text-align: right;\n",
              "    }\n",
              "</style>\n",
              "<table border=\"1\" class=\"dataframe\">\n",
              "  <thead>\n",
              "    <tr style=\"text-align: right;\">\n",
              "      <th></th>\n",
              "      <th>userID</th>\n",
              "      <th>itemID</th>\n",
              "      <th>rating</th>\n",
              "    </tr>\n",
              "  </thead>\n",
              "  <tbody>\n",
              "    <tr>\n",
              "      <th>0</th>\n",
              "      <td>1</td>\n",
              "      <td>1</td>\n",
              "      <td>1</td>\n",
              "    </tr>\n",
              "    <tr>\n",
              "      <th>1</th>\n",
              "      <td>1</td>\n",
              "      <td>2</td>\n",
              "      <td>2</td>\n",
              "    </tr>\n",
              "    <tr>\n",
              "      <th>2</th>\n",
              "      <td>1</td>\n",
              "      <td>4</td>\n",
              "      <td>1</td>\n",
              "    </tr>\n",
              "    <tr>\n",
              "      <th>3</th>\n",
              "      <td>1</td>\n",
              "      <td>5</td>\n",
              "      <td>1</td>\n",
              "    </tr>\n",
              "    <tr>\n",
              "      <th>4</th>\n",
              "      <td>1</td>\n",
              "      <td>16</td>\n",
              "      <td>2</td>\n",
              "    </tr>\n",
              "    <tr>\n",
              "      <th>...</th>\n",
              "      <td>...</td>\n",
              "      <td>...</td>\n",
              "      <td>...</td>\n",
              "    </tr>\n",
              "    <tr>\n",
              "      <th>266927</th>\n",
              "      <td>50037</td>\n",
              "      <td>5</td>\n",
              "      <td>1</td>\n",
              "    </tr>\n",
              "    <tr>\n",
              "      <th>266928</th>\n",
              "      <td>50050</td>\n",
              "      <td>5</td>\n",
              "      <td>1</td>\n",
              "    </tr>\n",
              "    <tr>\n",
              "      <th>266929</th>\n",
              "      <td>50050</td>\n",
              "      <td>6</td>\n",
              "      <td>1</td>\n",
              "    </tr>\n",
              "    <tr>\n",
              "      <th>266930</th>\n",
              "      <td>50074</td>\n",
              "      <td>10</td>\n",
              "      <td>1</td>\n",
              "    </tr>\n",
              "    <tr>\n",
              "      <th>266931</th>\n",
              "      <td>50089</td>\n",
              "      <td>6</td>\n",
              "      <td>1</td>\n",
              "    </tr>\n",
              "  </tbody>\n",
              "</table>\n",
              "<p>266932 rows × 3 columns</p>\n",
              "</div>"
            ],
            "text/plain": [
              "        userID  itemID  rating\n",
              "0            1       1       1\n",
              "1            1       2       2\n",
              "2            1       4       1\n",
              "3            1       5       1\n",
              "4            1      16       2\n",
              "...        ...     ...     ...\n",
              "266927   50037       5       1\n",
              "266928   50050       5       1\n",
              "266929   50050       6       1\n",
              "266930   50074      10       1\n",
              "266931   50089       6       1\n",
              "\n",
              "[266932 rows x 3 columns]"
            ]
          },
          "metadata": {
            "tags": []
          },
          "execution_count": 156
        }
      ]
    },
    {
      "cell_type": "code",
      "metadata": {
        "id": "gPZuUP9lyn8p"
      },
      "source": [
        "user_interactions = {}\n",
        "for user_id in train_dataset[\"userID\"].unique():\n",
        "  user_interactions[user_id] = 0\n",
        "for i in range(len(train_dataset)):\n",
        "  user_interactions[train_dataset.iloc[i].iloc[0]] = user_interactions[train_dataset.iloc[i].iloc[0]] + train_dataset.iloc[i].iloc[2]"
      ],
      "execution_count": null,
      "outputs": []
    },
    {
      "cell_type": "code",
      "metadata": {
        "id": "jyce4Icf0qv8"
      },
      "source": [
        "new_train_dataset = train_dataset\n",
        "remove= []\n",
        "for i in range(len(new_train_dataset)):\n",
        "  if user_interactions[new_train_dataset.iloc[i][0]]<=5:\n",
        "    remove.append(i)"
      ],
      "execution_count": null,
      "outputs": []
    },
    {
      "cell_type": "code",
      "metadata": {
        "id": "AqQAWkiLQbkc"
      },
      "source": [
        "new_train_dataset  = new_train_dataset.drop(new_train_dataset .index[remove])\n",
        "new_train_dataset"
      ],
      "execution_count": null,
      "outputs": []
    },
    {
      "cell_type": "code",
      "metadata": {
        "id": "jH6eLgoy2g4r"
      },
      "source": [
        "user_interactions[19360]"
      ],
      "execution_count": null,
      "outputs": []
    },
    {
      "cell_type": "code",
      "metadata": {
        "id": "axTClq0t9MRD"
      },
      "source": [
        "target_data"
      ],
      "execution_count": null,
      "outputs": []
    },
    {
      "cell_type": "code",
      "metadata": {
        "id": "S-mT3Tv2xkmX"
      },
      "source": [
        "# A reader is still needed but only the rating_scale param is required.\n",
        "reader = Reader(rating_scale=(1, 12))\n",
        "# The columns must correspond to user id, item id and ratings (in that order).\n",
        "data = Dataset.load_from_df(new_train_dataset[['userID', 'itemID', 'rating']], reader)\n",
        "trainset = data.build_full_trainset()"
      ],
      "execution_count": null,
      "outputs": []
    },
    {
      "cell_type": "code",
      "metadata": {
        "id": "3nzzSTHDNPt0",
        "cellView": "code"
      },
      "source": [
        "for nfactors in [4]:\n",
        "  for nepochs in [200]:\n",
        "    for lrall in [5e-4]:\n",
        "      for regall in [2]:\n",
        "              # Build an algorithm, and train it.\n",
        "              algo0 = SVD(n_factors = nfactors, n_epochs=nepochs, lr_all = lrall ,reg_all = regall, biased=True, random_state=9)\n",
        "              algo0.fit(trainset)\n",
        "\n",
        "              top1 = [[] for i in range(len(target_data))] \n",
        "              accuracy = 0\n",
        "              from operator import itemgetter\n",
        "              # Cross-validation of parameters\n",
        "              for i in range(len(target_data)):\n",
        "                  for iid in range(1,19):\n",
        "                      est = algo0.predict(target_data.iloc[i][0], iid, verbose=False).est\n",
        "                      top1[i].append([iid,est])\n",
        "                  b=sorted(top1[i], key=itemgetter(1),reverse=True)\n",
        "                  if (item_dict[b[0][0]] == target_data.iloc[i].iloc[1]) : \n",
        "                    accuracy=accuracy+1\n",
        "              accuracy = accuracy/(len(target_data))\n",
        "              print(\"For n_factors = {},n_epochs = {},lr_all = {},reg_all = {} accuracy is: {}\".format(nfactors,nepochs,lrall,regall,accuracy) )"
      ],
      "execution_count": null,
      "outputs": []
    },
    {
      "cell_type": "code",
      "metadata": {
        "id": "gRpezMD18p3c"
      },
      "source": [
        "target_data.iloc[i].iloc[1]"
      ],
      "execution_count": null,
      "outputs": []
    },
    {
      "cell_type": "code",
      "metadata": {
        "id": "HDXmRTTO5Qvg"
      },
      "source": [
        "bsl_options = {'method': 'als',\n",
        "               'n_epochs': 10,\n",
        "               'reg_u': 5,\n",
        "               'reg_i': 10\n",
        "               }\n",
        "algo2 = BaselineOnly(bsl_options=bsl_options)\n",
        "algo2.fit(trainset)"
      ],
      "execution_count": null,
      "outputs": []
    },
    {
      "cell_type": "code",
      "metadata": {
        "id": "LwaKE0xXz8EJ"
      },
      "source": [
        "sim_options = {'name': 'pearson_baseline',\n",
        "               'user_based': False  # compute  similarities between items\n",
        "               }\n",
        "algo3 = KNNBasic(sim_options=sim_options)\n",
        "algo3.fit(trainset)"
      ],
      "execution_count": null,
      "outputs": []
    },
    {
      "cell_type": "code",
      "metadata": {
        "id": "rnyS8Xp50-xv"
      },
      "source": [
        "top1 = [[] for i in range(len(target_data))] \n",
        "accuracy = 0\n",
        "from operator import itemgetter\n",
        "# Cross-validation of parameters\n",
        "for i in range(len(target_data)):\n",
        "   if user_interactions[target_data.iloc[i][0]]>7:\n",
        "      for iid in range(1,19):\n",
        "          est = algo0.predict(target_data.iloc[i][0], iid, verbose=False).est \n",
        "          top1[i].append([iid,est])\n",
        "      b=sorted(top1[i], key=itemgetter(1),reverse=True)\n",
        "      if (item_dict[b[0][0]] == target_data.iloc[i].iloc[1]) : \n",
        "        accuracy=accuracy+1\n",
        "   else: \n",
        "     for iid in range(1,19):\n",
        "          est = algo2.predict(target_data.iloc[i][0], iid, verbose=False).est\n",
        "          top1[i].append([iid,est])\n",
        "     b=sorted(top1[i], key=itemgetter(1),reverse=True)\n",
        "     if ('Phones' == target_data.iloc[i].iloc[1]) : \n",
        "        accuracy=accuracy+1\n",
        "        \n",
        "accuracy = accuracy/(len(target_data))\n",
        "accuracy "
      ],
      "execution_count": null,
      "outputs": []
    },
    {
      "cell_type": "markdown",
      "metadata": {
        "id": "BuYa2QCqB_Ex"
      },
      "source": [
        "##Creating csv for submission"
      ]
    },
    {
      "cell_type": "code",
      "metadata": {
        "id": "N_f3W0XAXUFc"
      },
      "source": [
        "reader = Reader(rating_scale=(1, 10))\n",
        "\n",
        "# The columns must correspond to user id, item id and ratings (in that order).\n",
        "data2 = Dataset.load_from_df(new_train_dataset[['userID', 'itemID', 'rating']], reader)\n",
        "trainset1 = data2.build_full_trainset()\n",
        "\n",
        "# Build an algorithm, and train it.\n",
        "algo = SVD(n_factors = 4, n_epochs=170, biased=True, lr_all = 5e-4 ,reg_all = 0.1, random_state=9)\n",
        "algo.fit(trainset1)"
      ],
      "execution_count": null,
      "outputs": []
    },
    {
      "cell_type": "code",
      "metadata": {
        "id": "Z-55A9PvCHjL"
      },
      "source": [
        "data1 = pd.read_csv(\"/content/drive/MyDrive/mlproject2/Sample Submission.csv\")\n",
        "data1"
      ],
      "execution_count": null,
      "outputs": []
    },
    {
      "cell_type": "code",
      "metadata": {
        "id": "sTDKrj9mxTf4"
      },
      "source": [
        "data1"
      ],
      "execution_count": null,
      "outputs": []
    },
    {
      "cell_type": "code",
      "metadata": {
        "id": "4OSDMjE8rULg"
      },
      "source": [
        "from operator import itemgetter\n",
        "b=sorted(top3[0], key=itemgetter(1),reverse=True)\n",
        "b\n",
        "category = ['Phones', 'Fashion', 'Home Decor', 'Toys','Groceries','Back to School','Gaming','Consumer Durables','Books','Kitchen cleaning Supplies','Beauty Products','Ereaders','Board Games','Painiting Supplies','Pet Supplies','Fitness','Laptops','TVs']\n"
      ],
      "execution_count": null,
      "outputs": []
    },
    {
      "cell_type": "code",
      "metadata": {
        "id": "9mfg8Ol-SD4x"
      },
      "source": [
        "del data1['pred3']"
      ],
      "execution_count": null,
      "outputs": []
    },
    {
      "cell_type": "code",
      "metadata": {
        "id": "NqSn1NzXuPqu"
      },
      "source": [
        "category = ['Phones', 'Fashion', 'Home Decor', 'Toys','Groceries','Back to School','Gaming','Consumer Durables','Books','Kitchen cleaning Supplies','Beauty Products','Ereaders','Board Games','Painiting Supplies','Pet Supplies','Fitness','Laptops','TVs']\n",
        "top = [[] for i in range(len(data1))]  \n",
        "item_dict = {}\n",
        "for i in range(1,19):\n",
        "  item_dict[i] = category[i-1]\n",
        "  \n",
        "pred=zeros((len(data1), 3),dtype = object)\n",
        "for i in range(len(data1)):\n",
        "  if user_interactions[data1.iloc[i][0]]>5:\n",
        "      for iid in range(1,19):\n",
        "          est = algo0.predict(data1.iloc[i][0], iid, verbose=False).est \n",
        "          top[i].append([iid,est])\n",
        "      b=sorted(top[i], key=itemgetter(1),reverse=True)\n",
        "      pred[i][0]=item_dict[b[0][0]]\n",
        "      pred[i][1]=item_dict[b[1][0]]\n",
        "      pred[i][2]=item_dict[b[2][0]]\n",
        "  else:\n",
        "      pred[i][0]='Phones'\n",
        "      pred[i][1]='Fashion'\n",
        "      pred[i][2] ='Home Decor'\n",
        "\n",
        "pred3 = zeros((len(data1)),dtype = object)\n",
        "for i in range(len(data1)):\n",
        "  pred3[i] = pred[i][0] + \", \" + pred[i][1] + \", \" + pred[i][2]\n"
      ],
      "execution_count": null,
      "outputs": []
    },
    {
      "cell_type": "code",
      "metadata": {
        "id": "C8wVgda3Su6f"
      },
      "source": [
        "data1['pred3'] = pred3"
      ],
      "execution_count": null,
      "outputs": []
    },
    {
      "cell_type": "code",
      "metadata": {
        "id": "oNR69riHCqa_"
      },
      "source": [
        "# My final Submission \n",
        "h=['user_id','pred3']\n",
        "data1.to_csv(\"recomm4.csv\",header=h,index=False)"
      ],
      "execution_count": null,
      "outputs": []
    }
  ]
}